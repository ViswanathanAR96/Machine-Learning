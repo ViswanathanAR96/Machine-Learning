{
 "cells": [
  {
   "cell_type": "code",
   "execution_count": 1,
   "metadata": {},
   "outputs": [],
   "source": [
    "import pandas as pd\n",
    "import numpy as np\n",
    "import matplotlib.pyplot as plt"
   ]
  },
  {
   "cell_type": "code",
   "execution_count": 255,
   "metadata": {},
   "outputs": [],
   "source": [
    "import numpy as np\n",
    "from collections import Counter\n",
    "\n",
    "def euclidean(x1, x2):\n",
    "    return np.sqrt(np.sum((x1 - x2)**2, axis = 1))\n",
    "\n",
    "def manhattan(x1, x2):\n",
    "    return(np.sum((np.abs(x1 - x2)), axis = 1))\n",
    "\n",
    "def minkowski(x1, x2, minkow_p):\n",
    "     return(np.power(np.sum(np.power((np.abs(x1 - x2)), minkow_p), axis = 1), 1/minkow_p))\n",
    "\n",
    "class KNN:\n",
    "    def __init__(self, k=3, weighted = False, p = 2, dist = 'euclidean', minkow_p = 2):\n",
    "        self.k = k\n",
    "        self.weighted_knn = weighted\n",
    "        self.p = p\n",
    "        self.dist = dist\n",
    "        self.minkow_p = minkow_p\n",
    "        \n",
    "    def fit(self, X, y):\n",
    "        self.X_train = X\n",
    "        self.y_train = y\n",
    "        ytrain_set = set(self.y_train) \n",
    "        # convert the set to the list \n",
    "        self.ytrain_uniq = (list(ytrain_set)) \n",
    "        \n",
    "        \n",
    "    def predict(self, X):\n",
    "        #Predict label for given datapoint(s)\n",
    "        predicted_labels = [self._predict(X) for x in X]\n",
    "        return np.array(predicted_labels)\n",
    "        \n",
    "    def _predict(self, X):\n",
    "        weighted_dict = {}\n",
    "        #Compute distance\n",
    "        if self.dist == 'euclidean':\n",
    "            distances = euclidean(self.X_train, X)\n",
    "        elif self.dist == 'manhattan':\n",
    "            distances = manhattan(self.X_train, X)\n",
    "        elif self.dist == 'minkowski':\n",
    "            distances = minkowski(self.X_train, X, self.minkow_p)\n",
    "        # Optimization step: Adding weights to the knn. If False, using the distances calculated to find argmins\n",
    "        if self.weighted_knn == True:\n",
    "            weights = np.power(1/np.power(distances, 2), (1/(self.p-1)))\n",
    "            k_weights = np.argsort(weights)[-self.k:][::-1]\n",
    "        else:\n",
    "            weights = distances\n",
    "            k_weights = np.argsort(distances)[:self.k]\n",
    "        #Get the k nearest distances to the datapoint\n",
    "        #Get K-nearest neighbours and their labels\n",
    "        k_nearest_labels = [self.y_train[i] for i in k_weights]\n",
    "        for i in range(len(k_nearest_labels)):\n",
    "            for j in range(len(self.ytrain_uniq)):\n",
    "                if self.ytrain_uniq[j] ==  k_nearest_labels[i]:\n",
    "                    if k_nearest_labels[i] not in weighted_dict:\n",
    "                        weighted_dict[k_nearest_labels[i]] = 0\n",
    "                    weighted_dict[k_nearest_labels[i]] += weights[k_weights[i]]\n",
    "        #Get majority votes for the class label\n",
    "        member = max(weighted_dict, key = weighted_dict.get)\n",
    "        return member\n",
    "        \n",
    "    \n",
    "        \n",
    "    \n",
    "        "
   ]
  },
  {
   "cell_type": "code",
   "execution_count": 256,
   "metadata": {},
   "outputs": [
    {
     "data": {
      "image/png": "[encoded data removed]",
      "text/plain": [
       "<Figure size 432x288 with 1 Axes>"
      ]
     },
     "metadata": {
      "needs_background": "light"
     },
     "output_type": "display_data"
    },
    {
     "name": "stdout",
     "output_type": "stream",
     "text": [
      "['a']\n"
     ]
    }
   ],
   "source": [
    "X1 = np.array([[1, 2], [3, 3], [5, 4], [6, 4], [2,1], [7,2], [6,1]])\n",
    "y = np.array(['a', 'a', 'a', 'a', 'b', 'b', 'b'])\n",
    "test_A = np.array([X1[x][0] for x in range(len(X1))])\n",
    "test_B = np.array([X1[x][1] for x in range(len(X1))])\n",
    "plt.figure()\n",
    "plt.scatter(test_A, test_B)\n",
    "plt.show()\n",
    "X2 = np.array([[6,2]])\n",
    "clf = KNN(k = 5, weighted = False, p = 3, dist = 'minkowski', minkow_p = 3)\n",
    "clf.fit(X1, y)\n",
    "predictions = clf.predict(X2)\n",
    "print(predictions)\n"
   ]
  },
  {
   "cell_type": "code",
   "execution_count": 258,
   "metadata": {},
   "outputs": [
    {
     "name": "stdout",
     "output_type": "stream",
     "text": [
      "[0.         0.33333333 0.66666667 0.83333333 0.16666667 1.\n",
      " 0.83333333]\n",
      "[0.33333333 0.66666667 1.         1.         0.         0.33333333\n",
      " 0.        ]\n",
      "          0         1         2         3         4         5         6\n",
      "0  0.000000  0.333333  0.666667  0.833333  0.166667  1.000000  0.833333\n",
      "1  0.333333  0.666667  1.000000  1.000000  0.000000  0.333333  0.000000\n",
      "['b']\n"
     ]
    }
   ],
   "source": [
    "normal_A = (test_A - min(test_A))/(max(test_A) - min(test_A))\n",
    "normal_B = (test_B - min(test_B))/(max(test_B) - min(test_B))\n",
    "print(normal_A)\n",
    "print(normal_B)\n",
    "X_norm = pd.DataFrame([normal_A, normal_B])\n",
    "print(X_norm)\n",
    "clf = KNN(k = 3, weighted = False, p = 2, dist = 'euclidean', minkow_p = 3)\n",
    "clf.fit(X1, y)\n",
    "predictions = clf.predict(X2)\n",
    "print(predictions)\n"
   ]
  },
  {
   "cell_type": "code",
   "execution_count": null,
   "metadata": {},
   "outputs": [],
   "source": []
  }
 ],
 "metadata": {
  "kernelspec": {
   "display_name": "Python 3",
   "language": "python",
   "name": "python3"
  },
  "language_info": {
   "codemirror_mode": {
    "name": "ipython",
    "version": 3
   },
   "file_extension": ".py",
   "mimetype": "text/x-python",
   "name": "python",
   "nbconvert_exporter": "python",
   "pygments_lexer": "ipython3",
   "version": "3.7.6"
  }
 },
 "nbformat": 4,
 "nbformat_minor": 4
}
