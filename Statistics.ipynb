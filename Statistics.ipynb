{
 "cells": [
  {
   "cell_type": "markdown",
   "metadata": {},
   "source": [
    "# Statistical Operations"
   ]
  },
  {
   "cell_type": "markdown",
   "metadata": {},
   "source": [
    "## Import libraries"
   ]
  },
  {
   "cell_type": "code",
   "execution_count": 86,
   "metadata": {},
   "outputs": [],
   "source": [
    "#Import libraries\n",
    "import numpy as np\n",
    "import pandas as pd\n",
    "from scipy import stats as st\n",
    "import decimal"
   ]
  },
  {
   "cell_type": "markdown",
   "metadata": {},
   "source": [
    "## Data"
   ]
  },
  {
   "cell_type": "code",
   "execution_count": 2,
   "metadata": {},
   "outputs": [],
   "source": [
    "X = [3, 1, 2, 3, 1, 4, 3, 3]\n",
    "Y = [1, 4, 3, 1, 1, 3]\n",
    "Z = [3, 3, 1, 4, 2, 1, 4, 2]"
   ]
  },
  {
   "cell_type": "code",
   "execution_count": 3,
   "metadata": {},
   "outputs": [],
   "source": [
    "pd_X = pd.Series(X)\n",
    "pd_Y = pd.Series(Y)\n",
    "pd_Z = pd.Series(Z)"
   ]
  },
  {
   "cell_type": "markdown",
   "metadata": {},
   "source": [
    "## Mean of the given vector"
   ]
  },
  {
   "cell_type": "code",
   "execution_count": 4,
   "metadata": {},
   "outputs": [],
   "source": [
    "#Mean of a data vector\n",
    "def mean(data, power = 1, mu = 0, abs_bool = False):\n",
    "    total = 0\n",
    "    count = 0\n",
    "    for i in data:\n",
    "        if mu == 0 and abs_bool == False:    \n",
    "            total += i**power\n",
    "        elif mu != 0 and abs_bool == True:\n",
    "            temp = absolute(i - mu) ** power\n",
    "            total += temp\n",
    "        count += 1\n",
    "    return total / count        "
   ]
  },
  {
   "cell_type": "code",
   "execution_count": 5,
   "metadata": {},
   "outputs": [
    {
     "name": "stdout",
     "output_type": "stream",
     "text": [
      "7.25\n"
     ]
    }
   ],
   "source": [
    "print(mean(X, 2))\n",
    "assert np.mean(X) == mean(X, 1)"
   ]
  },
  {
   "cell_type": "code",
   "execution_count": 6,
   "metadata": {},
   "outputs": [
    {
     "name": "stdout",
     "output_type": "stream",
     "text": [
      "Mean of X is 2.5\n",
      "Mean of Y is 2.1666666666666665\n",
      "Mean of Z is 2.5\n"
     ]
    }
   ],
   "source": [
    "print(\"Mean of X is {0}\".format(mean(X, power = 1)))\n",
    "print(\"Mean of Y is {0}\".format(mean(Y, power = 1)))\n",
    "print(\"Mean of Z is {0}\".format(mean(Z, power = 1)))"
   ]
  },
  {
   "cell_type": "markdown",
   "metadata": {},
   "source": [
    "## Merge Sort"
   ]
  },
  {
   "cell_type": "code",
   "execution_count": 7,
   "metadata": {},
   "outputs": [
    {
     "data": {
      "text/plain": [
       "[1, 1, 1, 3, 3, 4]"
      ]
     },
     "execution_count": 7,
     "metadata": {},
     "output_type": "execute_result"
    }
   ],
   "source": [
    "def mergesort(data):\n",
    "    if len(data) == 1:\n",
    "        return data\n",
    "    else:\n",
    "        m = int(len(data) / 2)\n",
    "        left = data[:m]\n",
    "        right = data[m:]\n",
    "        mergesort(left)\n",
    "        mergesort(right)\n",
    "        i = j = k =0\n",
    "        while i < len(left) and j < len(right):\n",
    "            if left[i] < right[j]:\n",
    "                data[k] = left[i]\n",
    "                i += 1\n",
    "            else:\n",
    "                data[k] = right[j]\n",
    "                j += 1\n",
    "            k += 1\n",
    "            \n",
    "        while i < len(left):\n",
    "            data[k] = left[i]\n",
    "            i += 1\n",
    "            k += 1\n",
    "        \n",
    "        while j < len(right):\n",
    "            data[k] = right[j]\n",
    "            j += 1\n",
    "            k += 1\n",
    "    return data\n",
    "\n",
    "mergesort(Y)\n",
    "            \n",
    "            "
   ]
  },
  {
   "cell_type": "code",
   "execution_count": 8,
   "metadata": {},
   "outputs": [],
   "source": [
    "assert mergesort(X) == sorted(X)"
   ]
  },
  {
   "cell_type": "markdown",
   "metadata": {},
   "source": [
    "### Utility Function - Length of the vector"
   ]
  },
  {
   "cell_type": "code",
   "execution_count": 9,
   "metadata": {},
   "outputs": [],
   "source": [
    "def length(data):\n",
    "    count = 0\n",
    "    for i in data:\n",
    "        count += 1\n",
    "    return count"
   ]
  },
  {
   "cell_type": "markdown",
   "metadata": {},
   "source": [
    "### Utility Function - Absolute value"
   ]
  },
  {
   "cell_type": "code",
   "execution_count": 10,
   "metadata": {},
   "outputs": [],
   "source": [
    "def absolute(value):\n",
    "    return value * ((value > 0) - (value < 0))"
   ]
  },
  {
   "cell_type": "markdown",
   "metadata": {},
   "source": [
    "## Median of the given vector"
   ]
  },
  {
   "cell_type": "code",
   "execution_count": 11,
   "metadata": {},
   "outputs": [],
   "source": [
    "def median(data):\n",
    "    data = mergesort(data)\n",
    "    if length(data) % 2 == 0:\n",
    "        return (1/2) * (data[int(length(data) / 2) - 1] + data[int(length(data) / 2)])\n",
    "    return data[int(length(data), 2) - 1]"
   ]
  },
  {
   "cell_type": "code",
   "execution_count": 12,
   "metadata": {},
   "outputs": [
    {
     "name": "stdout",
     "output_type": "stream",
     "text": [
      "Median of X is 3.0\n",
      "Median of Y is 2.0\n",
      "Median of Z is 2.5\n"
     ]
    }
   ],
   "source": [
    "print(\"Median of X is {}\".format(median(X)))\n",
    "print(\"Median of Y is {}\".format(median(Y)))\n",
    "print(\"Median of Z is {}\".format(median(Z)))"
   ]
  },
  {
   "cell_type": "code",
   "execution_count": 13,
   "metadata": {},
   "outputs": [],
   "source": [
    "assert np.median(X) == median(X)\n",
    "assert np.median(Y) == median(Y)\n",
    "assert np.median(Z) == median(Z)"
   ]
  },
  {
   "cell_type": "markdown",
   "metadata": {},
   "source": [
    "## Mode of the given vector"
   ]
  },
  {
   "cell_type": "code",
   "execution_count": 14,
   "metadata": {},
   "outputs": [],
   "source": [
    "def mode(data):\n",
    "    data = mergesort(data)\n",
    "    counter = {}\n",
    "    max_value =  float('-inf')\n",
    "    for val in data:\n",
    "        if val not in counter:\n",
    "            counter[val] = 0\n",
    "        counter[val] += 1\n",
    "    for key, value in counter.items():\n",
    "        if value >= max_value:\n",
    "            max_value = value\n",
    "    for key, val in counter.items():\n",
    "        if  val == max_value:\n",
    "            return key\n",
    "        "
   ]
  },
  {
   "cell_type": "code",
   "execution_count": 15,
   "metadata": {},
   "outputs": [
    {
     "name": "stdout",
     "output_type": "stream",
     "text": [
      "Mode of X is 3\n",
      "Mode of Y is 1\n",
      "Mode of Z is 1\n"
     ]
    }
   ],
   "source": [
    "print(\"Mode of X is {}\".format(mode(X)))\n",
    "print(\"Mode of Y is {}\".format(mode(Y)))\n",
    "print(\"Mode of Z is {}\".format(mode(Z)))"
   ]
  },
  {
   "cell_type": "code",
   "execution_count": 16,
   "metadata": {},
   "outputs": [],
   "source": [
    "assert mode(X) == st.mode(X)[0]\n",
    "assert mode(Y) == st.mode(Y)[0]\n",
    "assert mode(Z) == st.mode(Z)[0]"
   ]
  },
  {
   "cell_type": "markdown",
   "metadata": {},
   "source": [
    "## Variance of given vector"
   ]
  },
  {
   "cell_type": "code",
   "execution_count": 17,
   "metadata": {},
   "outputs": [],
   "source": [
    "def variance(data):\n",
    "    return mean(data, 2) - (mean(data, 1)**2)"
   ]
  },
  {
   "cell_type": "code",
   "execution_count": 18,
   "metadata": {},
   "outputs": [
    {
     "name": "stdout",
     "output_type": "stream",
     "text": [
      "1.0\n"
     ]
    }
   ],
   "source": [
    "print(variance(X))"
   ]
  },
  {
   "cell_type": "code",
   "execution_count": 19,
   "metadata": {},
   "outputs": [
    {
     "name": "stdout",
     "output_type": "stream",
     "text": [
      "Variance of X is 1.0\n",
      "Variance of Y is 1.4722222222222232\n",
      "Variance of Z is 1.25\n"
     ]
    }
   ],
   "source": [
    "print(\"Variance of X is {}\".format(variance(X)))\n",
    "print(\"Variance of Y is {}\".format(variance(Y)))\n",
    "print(\"Variance of Z is {}\".format(variance(Z)))"
   ]
  },
  {
   "cell_type": "code",
   "execution_count": 20,
   "metadata": {},
   "outputs": [
    {
     "ename": "AssertionError",
     "evalue": "",
     "output_type": "error",
     "traceback": [
      "\u001b[1;31m---------------------------------------------------------------------------\u001b[0m",
      "\u001b[1;31mAssertionError\u001b[0m                            Traceback (most recent call last)",
      "\u001b[1;32m<ipython-input-20-6eb5e9410676>\u001b[0m in \u001b[0;36m<module>\u001b[1;34m\u001b[0m\n\u001b[0;32m      1\u001b[0m \u001b[1;32massert\u001b[0m \u001b[0mvariance\u001b[0m\u001b[1;33m(\u001b[0m\u001b[0mX\u001b[0m\u001b[1;33m)\u001b[0m \u001b[1;33m==\u001b[0m \u001b[0mnp\u001b[0m\u001b[1;33m.\u001b[0m\u001b[0mvar\u001b[0m\u001b[1;33m(\u001b[0m\u001b[0mX\u001b[0m\u001b[1;33m)\u001b[0m\u001b[1;33m\u001b[0m\u001b[1;33m\u001b[0m\u001b[0m\n\u001b[1;32m----> 2\u001b[1;33m \u001b[1;32massert\u001b[0m \u001b[0mvariance\u001b[0m\u001b[1;33m(\u001b[0m\u001b[0mY\u001b[0m\u001b[1;33m)\u001b[0m \u001b[1;33m==\u001b[0m \u001b[0mnp\u001b[0m\u001b[1;33m.\u001b[0m\u001b[0mvar\u001b[0m\u001b[1;33m(\u001b[0m\u001b[0mY\u001b[0m\u001b[1;33m)\u001b[0m\u001b[1;33m\u001b[0m\u001b[1;33m\u001b[0m\u001b[0m\n\u001b[0m\u001b[0;32m      3\u001b[0m \u001b[1;32massert\u001b[0m \u001b[0mvariance\u001b[0m\u001b[1;33m(\u001b[0m\u001b[0mZ\u001b[0m\u001b[1;33m)\u001b[0m \u001b[1;33m==\u001b[0m \u001b[0mnp\u001b[0m\u001b[1;33m.\u001b[0m\u001b[0mvar\u001b[0m\u001b[1;33m(\u001b[0m\u001b[0mZ\u001b[0m\u001b[1;33m)\u001b[0m\u001b[1;33m\u001b[0m\u001b[1;33m\u001b[0m\u001b[0m\n",
      "\u001b[1;31mAssertionError\u001b[0m: "
     ]
    }
   ],
   "source": [
    "assert variance(X) == np.var(X)\n",
    "assert variance(Y) == np.var(Y)\n",
    "assert variance(Z) == np.var(Z)"
   ]
  },
  {
   "cell_type": "markdown",
   "metadata": {},
   "source": [
    "## Standard Deviation of a given vector"
   ]
  },
  {
   "cell_type": "code",
   "execution_count": 21,
   "metadata": {},
   "outputs": [
    {
     "name": "stdout",
     "output_type": "stream",
     "text": [
      "1.2133516482134201\n"
     ]
    }
   ],
   "source": [
    "def std(data):\n",
    "    return variance(data)**0.5\n",
    "print(std(Y))"
   ]
  },
  {
   "cell_type": "code",
   "execution_count": 22,
   "metadata": {},
   "outputs": [
    {
     "name": "stdout",
     "output_type": "stream",
     "text": [
      "Standard Deviation of X is 1.0\n",
      "Standard Deviation of Y is 1.2133516482134201\n",
      "Standard Deviation of Z is 1.118033988749895\n"
     ]
    }
   ],
   "source": [
    "print(\"Standard Deviation of X is {}\".format(std(X)))\n",
    "print(\"Standard Deviation of Y is {}\".format(std(Y)))\n",
    "print(\"Standard Deviation of Z is {}\".format(std(Z)))"
   ]
  },
  {
   "cell_type": "markdown",
   "metadata": {},
   "source": [
    "## Mean Absolute Deviation around Mean, Median and Mode"
   ]
  },
  {
   "cell_type": "code",
   "execution_count": 23,
   "metadata": {},
   "outputs": [],
   "source": [
    "def mad(data, centre = 'mean'):\n",
    "    delta = 0\n",
    "    if centre == 'mean':\n",
    "        average = mean(data, 1)\n",
    "    elif centre == 'median':\n",
    "        average = median(data)\n",
    "    elif centre == 'mode':\n",
    "        average = mode(data)\n",
    "    n = length(data)\n",
    "    for val in data:\n",
    "        delta += absolute(val - average)\n",
    "    return delta / n"
   ]
  },
  {
   "cell_type": "code",
   "execution_count": 24,
   "metadata": {},
   "outputs": [
    {
     "name": "stdout",
     "output_type": "stream",
     "text": [
      "Mean Absolute Deviation of X around mean is 0.875\n",
      "Mean Absolute Deviation of Y around mean is 1.1666666666666667\n",
      "Mean Absolute Deviation of Z around mean is 1.0\n"
     ]
    }
   ],
   "source": [
    "print(\"Mean Absolute Deviation of X around mean is {}\".format(mad(X, centre = 'mean')))\n",
    "print(\"Mean Absolute Deviation of Y around mean is {}\".format(mad(Y, centre = 'mean')))\n",
    "print(\"Mean Absolute Deviation of Z around mean is {}\".format(mad(Z, centre = 'mean')))"
   ]
  },
  {
   "cell_type": "code",
   "execution_count": 25,
   "metadata": {},
   "outputs": [
    {
     "name": "stdout",
     "output_type": "stream",
     "text": [
      "Mean Absolute Deviation of X around median is 0.75\n",
      "Mean Absolute Deviation of Y around median is 1.1666666666666667\n",
      "Mean Absolute Deviation of Z around median is 1.0\n"
     ]
    }
   ],
   "source": [
    "print(\"Mean Absolute Deviation of X around median is {}\".format(mad(X, centre = 'median')))\n",
    "print(\"Mean Absolute Deviation of Y around median is {}\".format(mad(Y, centre = 'median')))\n",
    "print(\"Mean Absolute Deviation of Z around median is {}\".format(mad(Z, centre = 'median')))"
   ]
  },
  {
   "cell_type": "code",
   "execution_count": 26,
   "metadata": {},
   "outputs": [
    {
     "name": "stdout",
     "output_type": "stream",
     "text": [
      "Mean Absolute Deviation of X around mode is 0.75\n",
      "Mean Absolute Deviation of Y around mode is 1.1666666666666667\n",
      "Mean Absolute Deviation of Z around mode is 1.5\n"
     ]
    }
   ],
   "source": [
    "print(\"Mean Absolute Deviation of X around mode is {}\".format(mad(X, centre = 'mode')))\n",
    "print(\"Mean Absolute Deviation of Y around mode is {}\".format(mad(Y, centre = 'mode')))\n",
    "print(\"Mean Absolute Deviation of Z around mode is {}\".format(mad(Z, centre = 'mode')))"
   ]
  },
  {
   "cell_type": "markdown",
   "metadata": {},
   "source": [
    "## Inter Quartile Range"
   ]
  },
  {
   "cell_type": "code",
   "execution_count": 165,
   "metadata": {},
   "outputs": [],
   "source": [
    "def quartiles(data):\n",
    "    data = mergesort(data)\n",
    "    n = length(data)\n",
    "    med = median(data)\n",
    "    \n",
    "    lq = (1/2) * (data[int(n/4) - 1] + data[int((n / 4) + ((n % 4) == 0)) - 1])\n",
    "    uq = (1/2) * (data[int((3 * n) / 4) - 1] + data[int(((3 * n) / 4) + (((3 * n) % 4) == 0)) - 1])\n",
    "    #iqr = uq - lq\n",
    "    return lq, uq"
   ]
  },
  {
   "cell_type": "code",
   "execution_count": 173,
   "metadata": {},
   "outputs": [],
   "source": [
    "def iqr(data):\n",
    "    lq, uq = quartiles(data)\n",
    "    iqr = uq - lq\n",
    "    return iqr"
   ]
  },
  {
   "cell_type": "code",
   "execution_count": 174,
   "metadata": {},
   "outputs": [
    {
     "name": "stdout",
     "output_type": "stream",
     "text": [
      "2\n",
      "3\n"
     ]
    },
    {
     "ename": "IndexError",
     "evalue": "list index out of range",
     "output_type": "error",
     "traceback": [
      "\u001b[1;31m---------------------------------------------------------------------------\u001b[0m",
      "\u001b[1;31mIndexError\u001b[0m                                Traceback (most recent call last)",
      "\u001b[1;32m<ipython-input-174-c0aef0feacd7>\u001b[0m in \u001b[0;36m<module>\u001b[1;34m\u001b[0m\n\u001b[1;32m----> 1\u001b[1;33m \u001b[0mprint\u001b[0m\u001b[1;33m(\u001b[0m\u001b[1;34m\"Inter Quartile Range of X is {}\"\u001b[0m\u001b[1;33m.\u001b[0m\u001b[0mformat\u001b[0m\u001b[1;33m(\u001b[0m\u001b[0miqr\u001b[0m\u001b[1;33m(\u001b[0m\u001b[0mX\u001b[0m\u001b[1;33m)\u001b[0m\u001b[1;33m)\u001b[0m\u001b[1;33m)\u001b[0m\u001b[1;33m\u001b[0m\u001b[1;33m\u001b[0m\u001b[0m\n\u001b[0m",
      "\u001b[1;32m<ipython-input-173-c0c061f139b2>\u001b[0m in \u001b[0;36miqr\u001b[1;34m(data)\u001b[0m\n\u001b[0;32m      1\u001b[0m \u001b[1;32mdef\u001b[0m \u001b[0miqr\u001b[0m\u001b[1;33m(\u001b[0m\u001b[0mdata\u001b[0m\u001b[1;33m)\u001b[0m\u001b[1;33m:\u001b[0m\u001b[1;33m\u001b[0m\u001b[1;33m\u001b[0m\u001b[0m\n\u001b[1;32m----> 2\u001b[1;33m     \u001b[0mlq\u001b[0m\u001b[1;33m,\u001b[0m \u001b[0muq\u001b[0m \u001b[1;33m=\u001b[0m \u001b[0mquartiles2\u001b[0m\u001b[1;33m(\u001b[0m\u001b[0mdata\u001b[0m\u001b[1;33m)\u001b[0m\u001b[1;33m\u001b[0m\u001b[1;33m\u001b[0m\u001b[0m\n\u001b[0m\u001b[0;32m      3\u001b[0m     \u001b[0miqr\u001b[0m \u001b[1;33m=\u001b[0m \u001b[0muq\u001b[0m \u001b[1;33m-\u001b[0m \u001b[0mlq\u001b[0m\u001b[1;33m\u001b[0m\u001b[1;33m\u001b[0m\u001b[0m\n\u001b[0;32m      4\u001b[0m     \u001b[1;32mreturn\u001b[0m \u001b[0miqr\u001b[0m\u001b[1;33m\u001b[0m\u001b[1;33m\u001b[0m\u001b[0m\n",
      "\u001b[1;32m<ipython-input-172-f081aac9d5da>\u001b[0m in \u001b[0;36mquartiles2\u001b[1;34m(data)\u001b[0m\n\u001b[0;32m      5\u001b[0m     \u001b[0mprint\u001b[0m\u001b[1;33m(\u001b[0m\u001b[0mint\u001b[0m\u001b[1;33m(\u001b[0m\u001b[1;33m(\u001b[0m\u001b[1;33m(\u001b[0m\u001b[0mn\u001b[0m\u001b[1;33m+\u001b[0m\u001b[1;36m1\u001b[0m\u001b[1;33m)\u001b[0m \u001b[1;33m/\u001b[0m \u001b[1;36m4\u001b[0m\u001b[1;33m)\u001b[0m \u001b[1;33m+\u001b[0m \u001b[1;33m(\u001b[0m\u001b[1;33m(\u001b[0m\u001b[1;33m(\u001b[0m\u001b[0mn\u001b[0m\u001b[1;33m+\u001b[0m\u001b[1;36m1\u001b[0m\u001b[1;33m)\u001b[0m \u001b[1;33m%\u001b[0m \u001b[1;36m4\u001b[0m\u001b[1;33m)\u001b[0m \u001b[1;33m)\u001b[0m\u001b[1;33m)\u001b[0m\u001b[1;33m)\u001b[0m\u001b[1;33m\u001b[0m\u001b[1;33m\u001b[0m\u001b[0m\n\u001b[0;32m      6\u001b[0m     \u001b[0mlq\u001b[0m \u001b[1;33m=\u001b[0m \u001b[1;33m(\u001b[0m\u001b[1;36m1\u001b[0m\u001b[1;33m/\u001b[0m\u001b[1;36m2\u001b[0m\u001b[1;33m)\u001b[0m \u001b[1;33m*\u001b[0m \u001b[1;33m(\u001b[0m\u001b[0mdata\u001b[0m\u001b[1;33m[\u001b[0m\u001b[0mint\u001b[0m\u001b[1;33m(\u001b[0m\u001b[1;33m(\u001b[0m\u001b[0mn\u001b[0m\u001b[1;33m+\u001b[0m\u001b[1;36m1\u001b[0m\u001b[1;33m)\u001b[0m\u001b[1;33m/\u001b[0m\u001b[1;36m4\u001b[0m\u001b[1;33m)\u001b[0m \u001b[1;33m-\u001b[0m\u001b[1;36m1\u001b[0m\u001b[1;33m]\u001b[0m \u001b[1;33m+\u001b[0m \u001b[0mdata\u001b[0m\u001b[1;33m[\u001b[0m\u001b[0mint\u001b[0m\u001b[1;33m(\u001b[0m\u001b[1;33m(\u001b[0m\u001b[1;33m(\u001b[0m\u001b[0mn\u001b[0m\u001b[1;33m+\u001b[0m\u001b[1;36m1\u001b[0m\u001b[1;33m)\u001b[0m \u001b[1;33m/\u001b[0m \u001b[1;36m4\u001b[0m\u001b[1;33m)\u001b[0m \u001b[1;33m+\u001b[0m \u001b[1;33m(\u001b[0m\u001b[1;33m(\u001b[0m\u001b[1;33m(\u001b[0m\u001b[0mn\u001b[0m\u001b[1;33m+\u001b[0m\u001b[1;36m1\u001b[0m\u001b[1;33m)\u001b[0m \u001b[1;33m%\u001b[0m \u001b[1;36m4\u001b[0m\u001b[1;33m)\u001b[0m \u001b[1;33m)\u001b[0m\u001b[1;33m)\u001b[0m \u001b[1;33m-\u001b[0m \u001b[1;36m1\u001b[0m\u001b[1;33m]\u001b[0m\u001b[1;33m)\u001b[0m\u001b[1;33m\u001b[0m\u001b[1;33m\u001b[0m\u001b[0m\n\u001b[1;32m----> 7\u001b[1;33m     \u001b[0muq\u001b[0m \u001b[1;33m=\u001b[0m \u001b[1;33m(\u001b[0m\u001b[1;36m1\u001b[0m\u001b[1;33m/\u001b[0m\u001b[1;36m2\u001b[0m\u001b[1;33m)\u001b[0m \u001b[1;33m*\u001b[0m \u001b[1;33m(\u001b[0m\u001b[0mdata\u001b[0m\u001b[1;33m[\u001b[0m\u001b[0mint\u001b[0m\u001b[1;33m(\u001b[0m\u001b[1;33m(\u001b[0m\u001b[1;36m3\u001b[0m \u001b[1;33m*\u001b[0m \u001b[1;33m(\u001b[0m\u001b[0mn\u001b[0m\u001b[1;33m+\u001b[0m\u001b[1;36m1\u001b[0m\u001b[1;33m)\u001b[0m\u001b[1;33m)\u001b[0m \u001b[1;33m/\u001b[0m \u001b[1;36m4\u001b[0m\u001b[1;33m)\u001b[0m \u001b[1;33m-\u001b[0m \u001b[1;36m1\u001b[0m \u001b[1;33m]\u001b[0m \u001b[1;33m+\u001b[0m \u001b[0mdata\u001b[0m\u001b[1;33m[\u001b[0m\u001b[0mint\u001b[0m\u001b[1;33m(\u001b[0m\u001b[1;33m(\u001b[0m\u001b[1;33m(\u001b[0m\u001b[1;36m3\u001b[0m \u001b[1;33m*\u001b[0m \u001b[1;33m(\u001b[0m\u001b[0mn\u001b[0m\u001b[1;33m+\u001b[0m\u001b[1;36m1\u001b[0m\u001b[1;33m)\u001b[0m\u001b[1;33m)\u001b[0m \u001b[1;33m/\u001b[0m \u001b[1;36m4\u001b[0m\u001b[1;33m)\u001b[0m \u001b[1;33m+\u001b[0m \u001b[1;33m(\u001b[0m\u001b[1;33m(\u001b[0m\u001b[1;33m(\u001b[0m\u001b[1;36m3\u001b[0m \u001b[1;33m*\u001b[0m \u001b[1;33m(\u001b[0m\u001b[0mn\u001b[0m\u001b[1;33m+\u001b[0m\u001b[1;36m1\u001b[0m\u001b[1;33m)\u001b[0m\u001b[1;33m)\u001b[0m \u001b[1;33m%\u001b[0m \u001b[1;36m4\u001b[0m\u001b[1;33m)\u001b[0m\u001b[1;33m)\u001b[0m\u001b[1;33m)\u001b[0m \u001b[1;33m-\u001b[0m \u001b[1;36m1\u001b[0m\u001b[1;33m]\u001b[0m\u001b[1;33m)\u001b[0m\u001b[1;33m\u001b[0m\u001b[1;33m\u001b[0m\u001b[0m\n\u001b[0m\u001b[0;32m      8\u001b[0m     \u001b[1;31m#iqr = uq - lq\u001b[0m\u001b[1;33m\u001b[0m\u001b[1;33m\u001b[0m\u001b[1;33m\u001b[0m\u001b[0m\n\u001b[0;32m      9\u001b[0m     \u001b[1;32mreturn\u001b[0m \u001b[0mlq\u001b[0m\u001b[1;33m,\u001b[0m \u001b[0muq\u001b[0m\u001b[1;33m\u001b[0m\u001b[1;33m\u001b[0m\u001b[0m\n",
      "\u001b[1;31mIndexError\u001b[0m: list index out of range"
     ]
    }
   ],
   "source": [
    "print(\"Inter Quartile Range of X is {}\".format(iqr(X)))"
   ]
  },
  {
   "cell_type": "code",
   "execution_count": 164,
   "metadata": {},
   "outputs": [
    {
     "ename": "IndexError",
     "evalue": "list index out of range",
     "output_type": "error",
     "traceback": [
      "\u001b[1;31m---------------------------------------------------------------------------\u001b[0m",
      "\u001b[1;31mIndexError\u001b[0m                                Traceback (most recent call last)",
      "\u001b[1;32m<ipython-input-164-2c66f0a6cab5>\u001b[0m in \u001b[0;36m<module>\u001b[1;34m\u001b[0m\n\u001b[1;32m----> 1\u001b[1;33m \u001b[0mprint\u001b[0m\u001b[1;33m(\u001b[0m\u001b[1;34m\"Inter Quartile Range of X is {}\"\u001b[0m\u001b[1;33m.\u001b[0m\u001b[0mformat\u001b[0m\u001b[1;33m(\u001b[0m\u001b[0miqr\u001b[0m\u001b[1;33m(\u001b[0m\u001b[0mX\u001b[0m\u001b[1;33m)\u001b[0m\u001b[1;33m)\u001b[0m\u001b[1;33m)\u001b[0m\u001b[1;33m\u001b[0m\u001b[1;33m\u001b[0m\u001b[0m\n\u001b[0m\u001b[0;32m      2\u001b[0m \u001b[0mprint\u001b[0m\u001b[1;33m(\u001b[0m\u001b[1;34m\"Inter Quartile Range of Y is {}\"\u001b[0m\u001b[1;33m.\u001b[0m\u001b[0mformat\u001b[0m\u001b[1;33m(\u001b[0m\u001b[0miqr\u001b[0m\u001b[1;33m(\u001b[0m\u001b[0mY\u001b[0m\u001b[1;33m)\u001b[0m\u001b[1;33m)\u001b[0m\u001b[1;33m)\u001b[0m\u001b[1;33m\u001b[0m\u001b[1;33m\u001b[0m\u001b[0m\n\u001b[0;32m      3\u001b[0m \u001b[0mprint\u001b[0m\u001b[1;33m(\u001b[0m\u001b[1;34m\"Inter Quartile Range of Z is {}\"\u001b[0m\u001b[1;33m.\u001b[0m\u001b[0mformat\u001b[0m\u001b[1;33m(\u001b[0m\u001b[0miqr\u001b[0m\u001b[1;33m(\u001b[0m\u001b[0mZ\u001b[0m\u001b[1;33m)\u001b[0m\u001b[1;33m)\u001b[0m\u001b[1;33m)\u001b[0m\u001b[1;33m\u001b[0m\u001b[1;33m\u001b[0m\u001b[0m\n",
      "\u001b[1;32m<ipython-input-163-c0c061f139b2>\u001b[0m in \u001b[0;36miqr\u001b[1;34m(data)\u001b[0m\n\u001b[0;32m      1\u001b[0m \u001b[1;32mdef\u001b[0m \u001b[0miqr\u001b[0m\u001b[1;33m(\u001b[0m\u001b[0mdata\u001b[0m\u001b[1;33m)\u001b[0m\u001b[1;33m:\u001b[0m\u001b[1;33m\u001b[0m\u001b[1;33m\u001b[0m\u001b[0m\n\u001b[1;32m----> 2\u001b[1;33m     \u001b[0mlq\u001b[0m\u001b[1;33m,\u001b[0m \u001b[0muq\u001b[0m \u001b[1;33m=\u001b[0m \u001b[0mquartiles2\u001b[0m\u001b[1;33m(\u001b[0m\u001b[0mdata\u001b[0m\u001b[1;33m)\u001b[0m\u001b[1;33m\u001b[0m\u001b[1;33m\u001b[0m\u001b[0m\n\u001b[0m\u001b[0;32m      3\u001b[0m     \u001b[0miqr\u001b[0m \u001b[1;33m=\u001b[0m \u001b[0muq\u001b[0m \u001b[1;33m-\u001b[0m \u001b[0mlq\u001b[0m\u001b[1;33m\u001b[0m\u001b[1;33m\u001b[0m\u001b[0m\n\u001b[0;32m      4\u001b[0m     \u001b[1;32mreturn\u001b[0m \u001b[0miqr\u001b[0m\u001b[1;33m\u001b[0m\u001b[1;33m\u001b[0m\u001b[0m\n",
      "\u001b[1;32m<ipython-input-162-1d5e44a7d16f>\u001b[0m in \u001b[0;36mquartiles2\u001b[1;34m(data)\u001b[0m\n\u001b[0;32m      3\u001b[0m     \u001b[0mn\u001b[0m \u001b[1;33m=\u001b[0m \u001b[0mlength\u001b[0m\u001b[1;33m(\u001b[0m\u001b[0mdata\u001b[0m\u001b[1;33m)\u001b[0m\u001b[1;33m\u001b[0m\u001b[1;33m\u001b[0m\u001b[0m\n\u001b[0;32m      4\u001b[0m     \u001b[0mlq\u001b[0m \u001b[1;33m=\u001b[0m \u001b[1;33m(\u001b[0m\u001b[1;36m1\u001b[0m\u001b[1;33m/\u001b[0m\u001b[1;36m2\u001b[0m\u001b[1;33m)\u001b[0m \u001b[1;33m*\u001b[0m \u001b[1;33m(\u001b[0m\u001b[0mdata\u001b[0m\u001b[1;33m[\u001b[0m\u001b[0mint\u001b[0m\u001b[1;33m(\u001b[0m\u001b[1;33m(\u001b[0m\u001b[0mn\u001b[0m\u001b[1;33m+\u001b[0m\u001b[1;36m1\u001b[0m\u001b[1;33m)\u001b[0m\u001b[1;33m/\u001b[0m\u001b[1;36m4\u001b[0m\u001b[1;33m)\u001b[0m \u001b[1;33m-\u001b[0m\u001b[1;36m1\u001b[0m\u001b[1;33m]\u001b[0m \u001b[1;33m+\u001b[0m \u001b[0mdata\u001b[0m\u001b[1;33m[\u001b[0m\u001b[0mint\u001b[0m\u001b[1;33m(\u001b[0m\u001b[1;33m(\u001b[0m\u001b[1;33m(\u001b[0m\u001b[0mn\u001b[0m\u001b[1;33m+\u001b[0m\u001b[1;36m1\u001b[0m\u001b[1;33m)\u001b[0m \u001b[1;33m/\u001b[0m \u001b[1;36m4\u001b[0m\u001b[1;33m)\u001b[0m \u001b[1;33m+\u001b[0m \u001b[1;33m(\u001b[0m\u001b[1;33m(\u001b[0m\u001b[1;33m(\u001b[0m\u001b[0mn\u001b[0m\u001b[1;33m+\u001b[0m\u001b[1;36m1\u001b[0m\u001b[1;33m)\u001b[0m \u001b[1;33m%\u001b[0m \u001b[1;36m4\u001b[0m\u001b[1;33m)\u001b[0m \u001b[1;33m)\u001b[0m\u001b[1;33m)\u001b[0m \u001b[1;33m-\u001b[0m \u001b[1;36m1\u001b[0m\u001b[1;33m]\u001b[0m\u001b[1;33m)\u001b[0m\u001b[1;33m\u001b[0m\u001b[1;33m\u001b[0m\u001b[0m\n\u001b[1;32m----> 5\u001b[1;33m     \u001b[0muq\u001b[0m \u001b[1;33m=\u001b[0m \u001b[1;33m(\u001b[0m\u001b[1;36m1\u001b[0m\u001b[1;33m/\u001b[0m\u001b[1;36m2\u001b[0m\u001b[1;33m)\u001b[0m \u001b[1;33m*\u001b[0m \u001b[1;33m(\u001b[0m\u001b[0mdata\u001b[0m\u001b[1;33m[\u001b[0m\u001b[0mint\u001b[0m\u001b[1;33m(\u001b[0m\u001b[1;33m(\u001b[0m\u001b[1;36m3\u001b[0m \u001b[1;33m*\u001b[0m \u001b[1;33m(\u001b[0m\u001b[0mn\u001b[0m\u001b[1;33m+\u001b[0m\u001b[1;36m1\u001b[0m\u001b[1;33m)\u001b[0m\u001b[1;33m)\u001b[0m \u001b[1;33m/\u001b[0m \u001b[1;36m4\u001b[0m\u001b[1;33m)\u001b[0m \u001b[1;33m-\u001b[0m \u001b[1;36m1\u001b[0m \u001b[1;33m]\u001b[0m \u001b[1;33m+\u001b[0m \u001b[0mdata\u001b[0m\u001b[1;33m[\u001b[0m\u001b[0mint\u001b[0m\u001b[1;33m(\u001b[0m\u001b[1;33m(\u001b[0m\u001b[1;33m(\u001b[0m\u001b[1;36m3\u001b[0m \u001b[1;33m*\u001b[0m \u001b[1;33m(\u001b[0m\u001b[0mn\u001b[0m\u001b[1;33m+\u001b[0m\u001b[1;36m1\u001b[0m\u001b[1;33m)\u001b[0m\u001b[1;33m)\u001b[0m \u001b[1;33m/\u001b[0m \u001b[1;36m4\u001b[0m\u001b[1;33m)\u001b[0m \u001b[1;33m+\u001b[0m \u001b[1;33m(\u001b[0m\u001b[1;33m(\u001b[0m\u001b[1;33m(\u001b[0m\u001b[1;36m3\u001b[0m \u001b[1;33m*\u001b[0m \u001b[1;33m(\u001b[0m\u001b[0mn\u001b[0m\u001b[1;33m+\u001b[0m\u001b[1;36m1\u001b[0m\u001b[1;33m)\u001b[0m\u001b[1;33m)\u001b[0m \u001b[1;33m%\u001b[0m \u001b[1;36m4\u001b[0m\u001b[1;33m)\u001b[0m\u001b[1;33m)\u001b[0m\u001b[1;33m)\u001b[0m \u001b[1;33m-\u001b[0m \u001b[1;36m1\u001b[0m\u001b[1;33m]\u001b[0m\u001b[1;33m)\u001b[0m\u001b[1;33m\u001b[0m\u001b[1;33m\u001b[0m\u001b[0m\n\u001b[0m\u001b[0;32m      6\u001b[0m     \u001b[1;31m#iqr = uq - lq\u001b[0m\u001b[1;33m\u001b[0m\u001b[1;33m\u001b[0m\u001b[1;33m\u001b[0m\u001b[0m\n\u001b[0;32m      7\u001b[0m     \u001b[1;32mreturn\u001b[0m \u001b[0mlq\u001b[0m\u001b[1;33m,\u001b[0m \u001b[0muq\u001b[0m\u001b[1;33m\u001b[0m\u001b[1;33m\u001b[0m\u001b[0m\n",
      "\u001b[1;31mIndexError\u001b[0m: list index out of range"
     ]
    }
   ],
   "source": [
    "print(\"Inter Quartile Range of X is {}\".format(iqr(X)))\n",
    "print(\"Inter Quartile Range of Y is {}\".format(iqr(Y)))\n",
    "print(\"Inter Quartile Range of Z is {}\".format(iqr(Z)))"
   ]
  },
  {
   "cell_type": "markdown",
   "metadata": {},
   "source": [
    "## Quartile based skewness"
   ]
  },
  {
   "cell_type": "code",
   "execution_count": 30,
   "metadata": {},
   "outputs": [],
   "source": [
    "def qaurtile_skew(data):\n",
    "    lq, uq = quartiles(data)\n",
    "    mq = median(data)\n",
    "    #skew = (((uq + lq) / 2 - mq) / ((uq - lq) / 2))\n",
    "    #skew = (uq + lq -(2 * mq)) / (uq - lq)\n",
    "    skew = ((uq - mq) - (mq - lq)) / (uq - lq)\n",
    "    return skew\n"
   ]
  },
  {
   "cell_type": "code",
   "execution_count": 31,
   "metadata": {},
   "outputs": [
    {
     "name": "stdout",
     "output_type": "stream",
     "text": [
      "Quartile based skewness of X is -1.0\n",
      "Quartile based skewness of Y is 0.0\n",
      "Quartile based skewness of Z is 0.0\n"
     ]
    }
   ],
   "source": [
    "print(\"Quartile based skewness of X is {}\".format(qaurtile_skew(X)))\n",
    "print(\"Quartile based skewness of Y is {}\".format(qaurtile_skew(Y)))\n",
    "print(\"Quartile based skewness of Z is {}\".format(qaurtile_skew(Z)))"
   ]
  },
  {
   "cell_type": "markdown",
   "metadata": {},
   "source": [
    "## Pearson's first skewness"
   ]
  },
  {
   "cell_type": "code",
   "execution_count": 32,
   "metadata": {},
   "outputs": [],
   "source": [
    "def person_first_skew(data):\n",
    "    mu = mean(data)\n",
    "    mo = mode(data)\n",
    "    st = std(data)\n",
    "    skew = (mu - mo) / st\n",
    "    return skew"
   ]
  },
  {
   "cell_type": "code",
   "execution_count": 33,
   "metadata": {},
   "outputs": [
    {
     "name": "stdout",
     "output_type": "stream",
     "text": [
      "Peason's first skewness of X is -0.5\n",
      "Peason's first skewness of Y is 0.9615239476408227\n",
      "Peason's first skewness of Z is 1.3416407864998738\n"
     ]
    }
   ],
   "source": [
    "print(\"Peason's first skewness of X is {}\".format(person_first_skew(X)))\n",
    "print(\"Peason's first skewness of Y is {}\".format(person_first_skew(Y)))\n",
    "print(\"Peason's first skewness of Z is {}\".format(person_first_skew(Z)))"
   ]
  },
  {
   "cell_type": "markdown",
   "metadata": {},
   "source": [
    "## Peason's second skewness"
   ]
  },
  {
   "cell_type": "code",
   "execution_count": 34,
   "metadata": {},
   "outputs": [],
   "source": [
    "def person_second_skew(data):\n",
    "    mu = mean(data)\n",
    "    md = median(data)\n",
    "    st = std(data)\n",
    "    skew = 3 * (mu - md) / st\n",
    "    return skew"
   ]
  },
  {
   "cell_type": "code",
   "execution_count": 35,
   "metadata": {},
   "outputs": [
    {
     "name": "stdout",
     "output_type": "stream",
     "text": [
      "Peason's second skewness of X is -1.5\n",
      "Peason's second skewness of Y is 0.4120816918460666\n",
      "Peason's second skewness of Z is 0.0\n"
     ]
    }
   ],
   "source": [
    "print(\"Peason's second skewness of X is {}\".format(person_second_skew(X)))\n",
    "print(\"Peason's second skewness of Y is {}\".format(person_second_skew(Y)))\n",
    "print(\"Peason's second skewness of Z is {}\".format(person_second_skew(Z)))"
   ]
  },
  {
   "cell_type": "markdown",
   "metadata": {},
   "source": [
    "## Groeneveld & Meedens coefficient"
   ]
  },
  {
   "cell_type": "code",
   "execution_count": 36,
   "metadata": {},
   "outputs": [],
   "source": [
    "def gro_med_coeff(data):\n",
    "    mea = mean(data)\n",
    "    med = median(data)\n",
    "    delta = mean(data, power = 1, mu = med, abs_bool = True)\n",
    "    return((mea - med) / delta)"
   ]
  },
  {
   "cell_type": "code",
   "execution_count": 37,
   "metadata": {},
   "outputs": [
    {
     "name": "stdout",
     "output_type": "stream",
     "text": [
      "Groeneveld & Meedens coefficient of X is -0.6666666666666666\n",
      "Groeneveld & Meedens coefficient of Y is 0.1428571428571427\n",
      "Groeneveld & Meedens coefficient of Z is 0.0\n"
     ]
    }
   ],
   "source": [
    "print(\"Groeneveld & Meedens coefficient of X is {}\".format(gro_med_coeff(X)))\n",
    "print(\"Groeneveld & Meedens coefficient of Y is {}\".format(gro_med_coeff(Y)))\n",
    "print(\"Groeneveld & Meedens coefficient of Z is {}\".format(gro_med_coeff(Z)))"
   ]
  },
  {
   "cell_type": "markdown",
   "metadata": {},
   "source": [
    "## Pearson's moment coefficient of skewness"
   ]
  },
  {
   "cell_type": "code",
   "execution_count": 138,
   "metadata": {},
   "outputs": [],
   "source": [
    "def peason_moment_coeff(data):\n",
    "    mea = mean(data)\n",
    "    upd_data = []\n",
    "    for i in range(length(data)):\n",
    "        upd_data.append((data[i] - mea) ** 3) \n",
    "    new_mea = mean(upd_data)\n",
    "    #delta = mean(data, power = 3, mu = mea, abs_bool = True)\n",
    "    var3 = std(data)**3\n",
    "    return (new_mea / var3)"
   ]
  },
  {
   "cell_type": "code",
   "execution_count": 139,
   "metadata": {},
   "outputs": [
    {
     "name": "stdout",
     "output_type": "stream",
     "text": [
      "Pearson's moment coefficient  of X is -0.375\n",
      "Pearson's moment coefficient  of Y is 0.2384372053448942\n",
      "Pearson's moment coefficient  of Z is 0.0\n"
     ]
    }
   ],
   "source": [
    "print(\"Pearson's moment coefficient  of X is {}\".format(peason_moment_coeff(X)))\n",
    "print(\"Pearson's moment coefficient  of Y is {}\".format(peason_moment_coeff(Y)))\n",
    "print(\"Pearson's moment coefficient  of Z is {}\".format(peason_moment_coeff(Z)))"
   ]
  },
  {
   "cell_type": "code",
   "execution_count": 140,
   "metadata": {},
   "outputs": [],
   "source": [
    "def kurtosis(data):\n",
    "    mea = mean(data)\n",
    "    upd_data = []\n",
    "    for i in range(length(data)):\n",
    "        upd_data.append((data[i] - mea) ** 4) \n",
    "    new_mea = mean(upd_data)\n",
    "    #delta = mean(data, power = 3, mu = mea, abs_bool = True)\n",
    "    var4 = std(data)**4\n",
    "    return (new_mea / var4)"
   ]
  },
  {
   "cell_type": "code",
   "execution_count": 141,
   "metadata": {},
   "outputs": [
    {
     "name": "stdout",
     "output_type": "stream",
     "text": [
      "kurtosis sharpness  of X is 1.9375\n",
      "kurtosis sharpness  of Y is 1.370238519045922\n",
      "kurtosis sharpness  of Z is 1.6399999999999997\n"
     ]
    }
   ],
   "source": [
    "print(\"kurtosis sharpness  of X is {}\".format(kurtosis(X)))\n",
    "print(\"kurtosis sharpness  of Y is {}\".format(kurtosis(Y)))\n",
    "print(\"kurtosis sharpness  of Z is {}\".format(kurtosis(Z)))"
   ]
  },
  {
   "cell_type": "markdown",
   "metadata": {},
   "source": [
    "## Entropy"
   ]
  },
  {
   "cell_type": "markdown",
   "metadata": {},
   "source": [
    "### Utility function - Probability of each element in the list"
   ]
  },
  {
   "cell_type": "code",
   "execution_count": 42,
   "metadata": {},
   "outputs": [],
   "source": [
    "def probability(data, power = 1):\n",
    "    n = length(data)\n",
    "    dict = {}\n",
    "    for i in range(n):\n",
    "        if data[i] not in dict:\n",
    "            dict[data[i]] = 1\n",
    "        else:\n",
    "            dict[data[i]] += 1\n",
    "    for key in dict.keys():\n",
    "        dict[key] = (dict[key] / n) ** power\n",
    "    return dict "
   ]
  },
  {
   "cell_type": "code",
   "execution_count": 43,
   "metadata": {},
   "outputs": [
    {
     "name": "stdout",
     "output_type": "stream",
     "text": [
      "Probabilities of X is {1: 0.25, 2: 0.125, 3: 0.5, 4: 0.125}\n",
      "Probabilities of Y is {1: 0.5, 3: 0.3333333333333333, 4: 0.16666666666666666}\n",
      "Probabilities of Z is {1: 0.25, 2: 0.25, 3: 0.25, 4: 0.25}\n"
     ]
    }
   ],
   "source": [
    "print(\"Probabilities of X is {}\".format(probability(X)))\n",
    "print(\"Probabilities of Y is {}\".format(probability(Y)))\n",
    "print(\"Probabilities of Z is {}\".format(probability(Z)))"
   ]
  },
  {
   "cell_type": "code",
   "execution_count": null,
   "metadata": {},
   "outputs": [],
   "source": []
  },
  {
   "cell_type": "raw",
   "metadata": {},
   "source": []
  },
  {
   "cell_type": "markdown",
   "metadata": {},
   "source": [
    "### Utility Function - ln(x)"
   ]
  },
  {
   "cell_type": "code",
   "execution_count": 115,
   "metadata": {},
   "outputs": [
    {
     "name": "stdout",
     "output_type": "stream",
     "text": [
      "0.6931471805599453\n"
     ]
    }
   ],
   "source": [
    "def ln(x):\n",
    "    temp = decimal.Decimal(0)\n",
    "    for i in range(1,1000):\n",
    "        temp += (1 / decimal.Decimal(i)) *  (((decimal.Decimal(x)-1) / decimal.Decimal(x))**decimal.Decimal(i))\n",
    "    return float(temp)\n",
    "\n",
    "print(ln(2))"
   ]
  },
  {
   "cell_type": "code",
   "execution_count": 122,
   "metadata": {},
   "outputs": [
    {
     "name": "stdout",
     "output_type": "stream",
     "text": [
      "2.0\n"
     ]
    }
   ],
   "source": [
    "def log2(x):\n",
    "    #return n * ((x ** (1/n)))\n",
    "    return ln(x) / ln(2)\n",
    "print(log2(1/0.25))"
   ]
  },
  {
   "cell_type": "markdown",
   "metadata": {},
   "source": [
    "###  Entropy"
   ]
  },
  {
   "cell_type": "code",
   "execution_count": 125,
   "metadata": {},
   "outputs": [],
   "source": [
    "def entropy(data):\n",
    "    entro = 0\n",
    "    probs = probability(data)\n",
    "    for key in probs.keys():\n",
    "        entro += (probs[key] * log2(1 / probs[key]))\n",
    "    return  entro\n",
    "    "
   ]
  },
  {
   "cell_type": "code",
   "execution_count": 126,
   "metadata": {},
   "outputs": [
    {
     "name": "stdout",
     "output_type": "stream",
     "text": [
      "Entropy of X is 1.75\n",
      "Entropy of Y is 1.4591479170272448\n",
      "Entropy of Z is 2.0\n"
     ]
    }
   ],
   "source": [
    "print(\"Entropy of X is {}\".format(entropy(X)))\n",
    "print(\"Entropy of Y is {}\".format(entropy(Y)))\n",
    "print(\"Entropy of Z is {}\".format(entropy(Z)))"
   ]
  },
  {
   "cell_type": "markdown",
   "metadata": {},
   "source": [
    "### Shannon Entopy"
   ]
  },
  {
   "cell_type": "code",
   "execution_count": 129,
   "metadata": {},
   "outputs": [],
   "source": [
    "def shannon_entropy(data):\n",
    "    entro = 0\n",
    "    probs = probability(data)\n",
    "    for key in probs.keys():\n",
    "        entro += (probs[key] * ln(1 / probs[key]))\n",
    "    return  entro"
   ]
  },
  {
   "cell_type": "code",
   "execution_count": 130,
   "metadata": {},
   "outputs": [
    {
     "name": "stdout",
     "output_type": "stream",
     "text": [
      "Shannon Entropy of X is 1.2130075659799042\n",
      "Shannon Entropy of Y is 1.0114042647073516\n",
      "Shannon Entropy of Z is 1.3862943611198906\n"
     ]
    }
   ],
   "source": [
    "print(\"Shannon Entropy of X is {}\".format(shannon_entropy(X)))\n",
    "print(\"Shannon Entropy of Y is {}\".format(shannon_entropy(Y)))\n",
    "print(\"Shannon Entropy of Z is {}\".format(shannon_entropy(Z)))"
   ]
  },
  {
   "cell_type": "markdown",
   "metadata": {},
   "source": [
    "### BergerParker index"
   ]
  },
  {
   "cell_type": "code",
   "execution_count": 152,
   "metadata": {},
   "outputs": [
    {
     "data": {
      "text/plain": [
       "0.5"
      ]
     },
     "execution_count": 152,
     "metadata": {},
     "output_type": "execute_result"
    }
   ],
   "source": [
    "def berger_parker_index(data):\n",
    "    probs = probability(data)\n",
    "    max_prob = mergesort([val for val in probs.values()])[-1]\n",
    "    return max_prob\n",
    "\n",
    "berger_parker_index(X)"
   ]
  },
  {
   "cell_type": "code",
   "execution_count": 153,
   "metadata": {},
   "outputs": [
    {
     "name": "stdout",
     "output_type": "stream",
     "text": [
      "BergerParker index of X is 0.5\n",
      "BergerParker index of Y is 0.5\n",
      "BergerParker index of Z is 0.25\n"
     ]
    }
   ],
   "source": [
    "print(\"BergerParker index of X is {}\".format(berger_parker_index(X)))\n",
    "print(\"BergerParker index of Y is {}\".format(berger_parker_index(Y)))\n",
    "print(\"BergerParker index of Z is {}\".format(berger_parker_index(Z)))"
   ]
  },
  {
   "cell_type": "markdown",
   "metadata": {},
   "source": [
    "### Simpson Index"
   ]
  },
  {
   "cell_type": "code",
   "execution_count": 133,
   "metadata": {},
   "outputs": [],
   "source": [
    "def simpson_index(data):\n",
    "    prob2 = probability(data, power = 2)\n",
    "    simp = 0\n",
    "    for i in prob2.values():\n",
    "        simp += i\n",
    "    return simp"
   ]
  },
  {
   "cell_type": "code",
   "execution_count": 158,
   "metadata": {},
   "outputs": [
    {
     "name": "stdout",
     "output_type": "stream",
     "text": [
      "Simpson index of X is 0.34375\n",
      "Simpson index of Y is 0.3888888888888889\n",
      "Simpson index of Z is 0.25\n"
     ]
    }
   ],
   "source": [
    "print(\"Simpson index of X is {}\".format(simpson_index(X)))\n",
    "print(\"Simpson index of Y is {}\".format(simpson_index(Y)))\n",
    "print(\"Simpson index of Z is {}\".format(simpson_index(Z)))"
   ]
  },
  {
   "cell_type": "markdown",
   "metadata": {},
   "source": [
    "### Gini-Simpson index"
   ]
  },
  {
   "cell_type": "code",
   "execution_count": 159,
   "metadata": {},
   "outputs": [],
   "source": [
    "def gini_simpson_index(data):\n",
    "    simp = simpson_index(data)\n",
    "    gini = 1 - simp\n",
    "    return gini"
   ]
  },
  {
   "cell_type": "code",
   "execution_count": 160,
   "metadata": {},
   "outputs": [
    {
     "name": "stdout",
     "output_type": "stream",
     "text": [
      "Gini-Simpson index of X is 0.65625\n",
      "Gini-Simpson index of Y is 0.6111111111111112\n",
      "Gini-Simpson index of Z is 0.75\n"
     ]
    }
   ],
   "source": [
    "print(\"Gini-Simpson index of X is {}\".format(gini_simpson_index(X)))\n",
    "print(\"Gini-Simpson index of Y is {}\".format(gini_simpson_index(Y)))\n",
    "print(\"Gini-Simpson index of Z is {}\".format(gini_simpson_index(Z)))"
   ]
  },
  {
   "cell_type": "markdown",
   "metadata": {},
   "source": [
    "### Collision Entropy"
   ]
  },
  {
   "cell_type": "code",
   "execution_count": 142,
   "metadata": {},
   "outputs": [],
   "source": [
    "def collision_entropy(data):\n",
    "    return ( ln(1 / simpson_index(data)))"
   ]
  },
  {
   "cell_type": "code",
   "execution_count": 143,
   "metadata": {},
   "outputs": [
    {
     "name": "stdout",
     "output_type": "stream",
     "text": [
      "Collision Entropy of X is 1.067840630001356\n",
      "Collision Entropy of Y is 0.9444616088408513\n",
      "Collision Entropy of Z is 1.3862943611198906\n"
     ]
    }
   ],
   "source": [
    "print(\"Collision Entropy of X is {}\".format(collision_entropy(X)))\n",
    "print(\"Collision Entropy of Y is {}\".format(collision_entropy(Y)))\n",
    "print(\"Collision Entropy of Z is {}\".format(collision_entropy(Z)))"
   ]
  },
  {
   "cell_type": "code",
   "execution_count": null,
   "metadata": {},
   "outputs": [],
   "source": []
  }
 ],
 "metadata": {
  "kernelspec": {
   "display_name": "Python 3",
   "language": "python",
   "name": "python3"
  },
  "language_info": {
   "codemirror_mode": {
    "name": "ipython",
    "version": 3
   },
   "file_extension": ".py",
   "mimetype": "text/x-python",
   "name": "python",
   "nbconvert_exporter": "python",
   "pygments_lexer": "ipython3",
   "version": "3.7.6"
  }
 },
 "nbformat": 4,
 "nbformat_minor": 4
}
